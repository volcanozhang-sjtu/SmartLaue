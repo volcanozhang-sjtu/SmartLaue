{
 "cells": [
  {
   "cell_type": "code",
   "execution_count": 6,
   "metadata": {},
   "outputs": [],
   "source": [
    "import numpy as np\n",
    "from sklearn import cluster\n",
    "from sklearn.feature_extraction.image import grid_to_graph\n",
    "\n",
    "features=np.load('features4096.npy')\n",
    "X = np.reshape(features, (64*146,4096))\n",
    "\n",
    "connectivity = grid_to_graph(n_x=64, n_y=64)\n",
    "\n",
    "agglo = cluster.FeatureAgglomeration(connectivity=connectivity, n_clusters=256)\n",
    "\n",
    "agglo.fit(X)\n",
    "FA_features=agglo.transform(X)\n"
   ]
  },
  {
   "cell_type": "code",
   "execution_count": 7,
   "metadata": {},
   "outputs": [
    {
     "name": "stdout",
     "output_type": "stream",
     "text": [
      "[[-5.60932324e+00  9.69167371e-01  1.69421090e+00 ... -1.93397094e-02\n",
      "   1.03407085e-03 -7.51636184e-01]\n",
      " [-5.77118042e+00  1.40904324e+00  2.05354953e+00 ... -2.66465480e-01\n",
      "   9.13118245e-04 -6.00030147e-01]\n",
      " [-6.07517502e+00  1.68666700e+00  2.14590160e+00 ... -1.55942007e-01\n",
      "   1.11147228e-03 -2.73527154e-01]\n",
      " ...\n",
      " [-3.85684731e+00  2.22153641e+00  1.52743649e+00 ...  6.61736929e-01\n",
      "  -2.27323915e-04  8.20668978e-01]\n",
      " [-4.07236119e+00  1.69256993e+00  1.59724710e+00 ... -1.96381962e-01\n",
      "   3.16385047e-04  4.13664492e-01]\n",
      " [-4.29338874e+00  1.26921696e+00  1.74831704e+00 ...  7.09039837e-02\n",
      "   5.10170593e-04  2.03071099e-01]]\n"
     ]
    }
   ],
   "source": [
    "print(FA_features.shape)"
   ]
  },
  {
   "cell_type": "code",
   "execution_count": null,
   "metadata": {},
   "outputs": [],
   "source": []
  }
 ],
 "metadata": {
  "kernelspec": {
   "display_name": "Python 3",
   "language": "python",
   "name": "python3"
  },
  "language_info": {
   "codemirror_mode": {
    "name": "ipython",
    "version": 3
   },
   "file_extension": ".py",
   "mimetype": "text/x-python",
   "name": "python",
   "nbconvert_exporter": "python",
   "pygments_lexer": "ipython3",
   "version": "3.8.3"
  }
 },
 "nbformat": 4,
 "nbformat_minor": 4
}
