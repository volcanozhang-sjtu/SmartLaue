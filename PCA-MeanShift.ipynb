{
 "cells": [
  {
   "cell_type": "code",
   "execution_count": 1,
   "metadata": {},
   "outputs": [
    {
     "name": "stdout",
     "output_type": "stream",
     "text": [
      "Missing fabio module. Please install it if you need open some tiff images from the sCMOS camera\n",
      "LaueToolsProjectFolder ..\\lauetools\\LaueTools\n",
      "you are using python 3\n"
     ]
    },
    {
     "data": {
      "text/plain": [
       "[<matplotlib.lines.Line2D at 0x1d81245ef70>]"
      ]
     },
     "execution_count": 1,
     "metadata": {},
     "output_type": "execute_result"
    },
    {
     "data": {
      "image/png": "[encoded data removed]",
      "text/plain": [
       "<Figure size 432x288 with 1 Axes>"
      ]
     },
     "metadata": {
      "needs_background": "light"
     },
     "output_type": "display_data"
    }
   ],
   "source": [
    "import sys\n",
    "sys.path.append(\"..\")\n",
    "import os\n",
    "\n",
    "import lauetools.LaueTools.IOimagefile as IOimage\n",
    "\n",
    "import matplotlib.pyplot as plt\n",
    "import numpy as np\n",
    "from scipy import fft\n",
    "\n",
    "def reduce(im, sx, sy, lp, hp):\n",
    "    SX, SY = im.shape\n",
    "    im_ = im.reshape(sx, SX // sx, sy,SY // sy).mean(-1).mean(1)\n",
    "    #ss=cv2.dct(im_)\n",
    "    ss=fft.dctn(im_)\n",
    "    ss[:lp, :] = 0.\n",
    "    ss[:, :lp] = 0.\n",
    "    ss[hp:, :] = 0.\n",
    "    ss[:, hp:] = 0.\n",
    "    #return cv2.idct(ss), ss[lp: hp, lp: hp].ravel()\n",
    "    return fft.idctn(ss), ss[lp: hp, lp: hp].ravel()\n",
    "\n",
    "features=np.load('features4096.npy')\n",
    "\n",
    "features=features.reshape((64*146,4096))\n",
    "\n",
    "from sklearn.decomposition import PCA\n",
    "\n",
    "n_pca=32\n",
    "pca = PCA(n_components=n_pca, svd_solver='randomized')\n",
    "\n",
    "pca_features=pca.fit_transform(features)#components_\n",
    "\n",
    "plt.plot(np.arange(n_pca), pca.explained_variance_ratio_,'r.')\n"
   ]
  },
  {
   "cell_type": "code",
   "execution_count": 7,
   "metadata": {},
   "outputs": [
    {
     "name": "stdout",
     "output_type": "stream",
     "text": [
      "2\n",
      "(9344,)\n"
     ]
    },
    {
     "data": {
      "text/plain": [
       "<matplotlib.image.AxesImage at 0x1d812965c40>"
      ]
     },
     "execution_count": 7,
     "metadata": {},
     "output_type": "execute_result"
    },
    {
     "data": {
      "image/png": "[encoded data removed]",
      "text/plain": [
       "<Figure size 432x288 with 1 Axes>"
      ]
     },
     "metadata": {
      "needs_background": "light"
     },
     "output_type": "display_data"
    }
   ],
   "source": [
    "from sklearn.cluster import MeanShift, estimate_bandwidth\n",
    "\n",
    "bandwidth = estimate_bandwidth(pca_features, quantile=0.2, n_samples=64*146*2)\n",
    "\n",
    "ms = MeanShift(bandwidth=bandwidth, bin_seeding=True)\n",
    "ms.fit(pca_features)\n",
    "labels = ms.labels_\n",
    "cluster_centers = ms.cluster_centers_\n",
    "\n",
    "labels_unique = np.unique(labels)\n",
    "n_clusters_ = len(labels_unique)\n",
    "\n",
    "colors=np.random.uniform(size=(n_clusters_,3))\n",
    "\n",
    "print(n_clusters_)\n",
    "\n",
    "print(labels.shape)\n",
    "\n",
    "labels=labels.reshape((64,146))\n",
    "im=np.zeros(tuple(list(labels.shape)+[3]))\n",
    "\n",
    "for i in range(64):\n",
    "    for j in range(146):\n",
    "        im[i,j]=colors[labels[i,j]]\n",
    "            \n",
    "\n",
    "plt.imshow(im)"
   ]
  },
  {
   "cell_type": "code",
   "execution_count": null,
   "metadata": {},
   "outputs": [],
   "source": []
  }
 ],
 "metadata": {
  "kernelspec": {
   "display_name": "Python 3",
   "language": "python",
   "name": "python3"
  },
  "language_info": {
   "codemirror_mode": {
    "name": "ipython",
    "version": 3
   },
   "file_extension": ".py",
   "mimetype": "text/x-python",
   "name": "python",
   "nbconvert_exporter": "python",
   "pygments_lexer": "ipython3",
   "version": "3.8.3"
  }
 },
 "nbformat": 4,
 "nbformat_minor": 4
}
