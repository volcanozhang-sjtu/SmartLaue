{
 "cells": [
  {
   "cell_type": "code",
   "execution_count": 2,
   "metadata": {},
   "outputs": [
    {
     "name": "stdout",
     "output_type": "stream",
     "text": [
      "20 395\n",
      "25 275\n",
      "30 225\n",
      "35 176\n",
      "40 142\n",
      "45 108\n",
      "50 95\n",
      "55 77\n",
      "60 62\n",
      "65 57\n",
      "70 51\n"
     ]
    }
   ],
   "source": [
    "import sys\n",
    "sys.path.append(\"..\")\n",
    "import numpy as np\n",
    "import matplotlib.pyplot as plt\n",
    "#import matplotlib.gridspec as gridspec\n",
    "\n",
    "from scipy import fft\n",
    "from scipy import stats\n",
    "\n",
    "\n",
    "#import lauetools.LaueTools.IOimagefile as IOimage\n",
    "\n",
    "#from libtiff import TIFF\n",
    "\n",
    "from sklearn.decomposition import PCA\n",
    "\n",
    "\n",
    "from sklearn import cluster\n",
    "from sklearn.feature_extraction.image import grid_to_graph\n",
    "\n",
    "from sklearn import metrics\n",
    "\n",
    "nx,ny=64,146\n",
    "FA_spatial=np.load('full_spatial_features.npy')\n",
    "\n",
    "ratio=ny/nx\n",
    "\n",
    "n_pca=64\n",
    "\n",
    "#ks=np.array(np.load('ks%i.npy'%n_pca))\n",
    "#ns_clusters_=[x for x in range(50,200,25)]+[x for x in range(200,400,50)]+[x for x in range(400,800,100)]+[x for x in range(800,2000,200)]+[x for x in range(2000,4000,400)]+[x for x in range(4000,8000,800)]+[8000,9300]#np.arange(100,9400,100)\n",
    "\n",
    "#n_clusters_=ns_clusters_[ks.argmin()]\n",
    "connectivity = grid_to_graph(n_x=nx, n_y=ny)\n",
    "\n",
    "\n",
    "\n",
    "for thre in range(20,75,5):\n",
    "    pca = PCA(n_components=n_pca, svd_solver='full')\n",
    "    pca_features=pca.fit_transform(FA_spatial)#components_\n",
    "    ward = cluster.AgglomerativeClustering(n_clusters=None, connectivity=connectivity, linkage='ward', compute_full_tree=True,distance_threshold=thre).fit(pca_features)\n",
    "    labels = ward.labels_\n",
    "    #ns.append(np.unique(labels).shape[0])\n",
    "    sil=metrics.silhouette_score(pca_features,labels)\n",
    "    cal=metrics.calinski_harabasz_score(pca_features,labels)\n",
    "    dav=metrics.davies_bouldin_score(pca_features,labels)\n",
    "    print(thre,np.unique(labels).shape[0])\n",
    "    np.save('res_%i_%i'%(n_pca,thre),(labels.tolist(),sil,cal,dav))"
   ]
  },
  {
   "cell_type": "code",
   "execution_count": null,
   "metadata": {},
   "outputs": [],
   "source": []
  }
 ],
 "metadata": {
  "kernelspec": {
   "display_name": "Python 3",
   "language": "python",
   "name": "python3"
  },
  "language_info": {
   "codemirror_mode": {
    "name": "ipython",
    "version": 3
   },
   "file_extension": ".py",
   "mimetype": "text/x-python",
   "name": "python",
   "nbconvert_exporter": "python",
   "pygments_lexer": "ipython3",
   "version": "3.8.3"
  }
 },
 "nbformat": 4,
 "nbformat_minor": 4
}
