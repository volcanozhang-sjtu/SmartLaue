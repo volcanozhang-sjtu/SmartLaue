{
 "cells": [
  {
   "cell_type": "code",
   "execution_count": 34,
   "metadata": {},
   "outputs": [],
   "source": [
    "import sys\n",
    "sys.path.append(\"..\")\n",
    "import numpy as np\n",
    "import matplotlib.pyplot as plt\n",
    "#import matplotlib.gridspec as gridspec\n",
    "\n",
    "from scipy import fft\n",
    "\n",
    "\n",
    "import lauetools.LaueTools.IOimagefile as IOimage\n",
    "\n",
    "#from libtiff import TIFF\n",
    "\n",
    "from sklearn import cluster\n",
    "from sklearn.feature_extraction.image import grid_to_graph\n",
    "\n",
    "from sklearn import metrics\n",
    "\n",
    "\n",
    "nx,ny=64,64#146\n",
    "\n",
    "#X=np.load('spatial_X.npy')#[:nx,60:60+ny,:]\n",
    "#argmin=X[:,0].argmin()\n",
    "FA_spatial=np.load('spatial_features.npy')\n",
    "#RS_spatial = agglo.inverse_transform(FA_spatial)\n",
    "#RS_spatial=RS_spatial.reshape((nx,ny,128,128))\n",
    "\n",
    "from sklearn.decomposition import PCA\n",
    "\n",
    "n_pca=12\n",
    "\n",
    "\n",
    "pca = PCA(n_components=n_pca, svd_solver='randomized')\n",
    "\n",
    "pca_features=pca.fit_transform(FA_spatial)#components_\n",
    "\n",
    "#pca_features=pca.fit_transform(np.delete(FA_spatial,argmin,0))#components_\n",
    "\n",
    "#pca_features=np.insert(pca_features,argmin,np.zeros(n_pca),0)\n"
   ]
  },
  {
   "cell_type": "code",
   "execution_count": null,
   "metadata": {},
   "outputs": [],
   "source": [
    "af = cluster.AffinityPropagation(max_iter=5000,random_state=None,preference=-50).fit(pca_features)\n",
    "print(af.n_iter_)\n",
    "cluster_centers_indices = af.cluster_centers_indices_\n",
    "labels = af.labels_\n",
    "n_clusters_ = len(cluster_centers_indices)\n",
    "print(n_clusters_)\n",
    "\n",
    "labels=labels.reshape((nx,ny))\n",
    "\n",
    "colors=np.random.uniform(size=(n_clusters_,3))\n",
    "im=np.zeros(tuple(list(labels.shape)+[3]))\n",
    "\n",
    "for i in range(nx):\n",
    "    for j in range(ny):\n",
    "        #if counts[labels[i,j]]<10:\n",
    "        #    im[i,j]=np.array([1.,1.,1.])\n",
    "        #else:\n",
    "        im[i,j]=colors[labels[i,j]]\n",
    "plt.imshow(im)"
   ]
  },
  {
   "cell_type": "code",
   "execution_count": null,
   "metadata": {},
   "outputs": [],
   "source": [
    "n_clusters_=175\n",
    "connectivity = grid_to_graph(n_x=64, n_y=64)\n",
    "\n",
    "ward = cluster.AgglomerativeClustering(n_clusters=n_clusters_, connectivity=connectivity, linkage='ward').fit(pca_features)\n",
    "\n",
    "labels = ward.labels_\n",
    "print(labels.shape)\n",
    "grains=labels.reshape((64,64))\n",
    "colors=np.random.uniform(size=(n_clusters_,3))\n",
    "sample_silhouette_values = metrics.silhouette_samples(pca_features, labels)\n",
    "sample_silhouette_values=sample_silhouette_values.reshape((64,64))\n",
    "\n",
    "im=np.zeros(tuple(list(grains.shape)+[3]))\n",
    "\n",
    "for i in range(64):\n",
    "    for j in range(64):\n",
    "        if sample_silhouette_values[i,j] > 0:\n",
    "            im[i,j]=colors[grains[i,j]]\n",
    "        else:\n",
    "            im[i,j]=colors[grains[i,j]]#np.array([1.,1.,1.])\n",
    "plt.imshow(im)"
   ]
  },
  {
   "cell_type": "code",
   "execution_count": null,
   "metadata": {},
   "outputs": [],
   "source": [
    "from sklearn.cluster import KMeans\n",
    "\n",
    "n_clusters_=175\n",
    "\n",
    "labels = KMeans(n_clusters=n_clusters_, init='k-means++').fit_predict(pca_features)\n",
    "np.save(\"label%i\"%n_clusters_,labels)\n",
    "\n",
    "\n",
    "grains=np.array(labels).reshape((64,64))\n",
    "\n",
    "colors=np.random.uniform(size=(n_clusters_,3))\n",
    "\n",
    "im=np.zeros(tuple(list(grains.shape)+[3]))\n",
    "\n",
    "for i in range(64):\n",
    "    for j in range(64):\n",
    "        im[i,j]=colors[grains[i,j]]\n",
    "plt.imshow(im)"
   ]
  },
  {
   "cell_type": "code",
   "execution_count": 23,
   "metadata": {},
   "outputs": [],
   "source": [
    "import sys\n",
    "sys.path.append(\"..\")\n",
    "import numpy as np\n",
    "import matplotlib.pyplot as plt\n",
    "#import matplotlib.gridspec as gridspec\n",
    "\n",
    "from scipy import fft\n",
    "\n",
    "\n",
    "import lauetools.LaueTools.IOimagefile as IOimage\n",
    "\n",
    "#from libtiff import TIFF\n",
    "\n",
    "from sklearn import cluster\n",
    "from sklearn.feature_extraction.image import grid_to_graph\n",
    "\n",
    "from sklearn import metrics\n",
    "\n",
    "\n",
    "nx,ny=64,64#146\n",
    "\n",
    "#X=np.load('spatial_X.npy')#[:nx,60:60+ny,:]\n",
    "#argmin=X[:,0].argmin()\n",
    "FA_spatial=np.load('0-64-60-124/spatial_features.npy')\n",
    "#RS_spatial = agglo.inverse_transform(FA_spatial)\n",
    "#RS_spatial=RS_spatial.reshape((nx,ny,128,128))\n",
    "\n",
    "from sklearn.decomposition import PCA\n",
    "\n",
    "n_pca=12\n",
    "\n",
    "\n",
    "pca = PCA(n_components=n_pca, svd_solver='randomized')\n",
    "\n",
    "pca_features=pca.fit_transform(FA_spatial)#components_\n",
    "\n",
    "#pca_features=pca.fit_transform(np.delete(FA_spatial,argmin,0))#components_\n",
    "\n",
    "#pca_features=np.insert(pca_features,argmin,np.zeros(n_pca),0)"
   ]
  },
  {
   "cell_type": "code",
   "execution_count": 24,
   "metadata": {},
   "outputs": [
    {
     "name": "stdout",
     "output_type": "stream",
     "text": [
      "87\n",
      "213\n"
     ]
    },
    {
     "data": {
      "text/plain": [
       "<matplotlib.image.AxesImage at 0x1d38b84ee80>"
      ]
     },
     "execution_count": 24,
     "metadata": {},
     "output_type": "execute_result"
    },
    {
     "data": {
      "image/png": "[encoded data removed]",
      "text/plain": [
       "<Figure size 432x288 with 1 Axes>"
      ]
     },
     "metadata": {
      "needs_background": "light"
     },
     "output_type": "display_data"
    }
   ],
   "source": [
    "af = cluster.AffinityPropagation(max_iter=5000,random_state=None,preference=-50).fit(pca_features)\n",
    "print(af.n_iter_)\n",
    "cluster_centers_indices = af.cluster_centers_indices_\n",
    "labels = af.labels_\n",
    "n_clusters_ = len(cluster_centers_indices)\n",
    "print(n_clusters_)\n",
    "\n",
    "labels=labels.reshape((nx,ny))\n",
    "\n",
    "colors=np.random.uniform(size=(n_clusters_,3))\n",
    "im=np.zeros(tuple(list(labels.shape)+[3]))\n",
    "\n",
    "for i in range(nx):\n",
    "    for j in range(ny):\n",
    "        #if counts[labels[i,j]]<10:\n",
    "        #    im[i,j]=np.array([1.,1.,1.])\n",
    "        #else:\n",
    "        im[i,j]=colors[labels[i,j]]\n",
    "plt.imshow(im)"
   ]
  },
  {
   "cell_type": "code",
   "execution_count": 33,
   "metadata": {},
   "outputs": [
    {
     "name": "stdout",
     "output_type": "stream",
     "text": [
      "(4096,)\n"
     ]
    },
    {
     "data": {
      "text/plain": [
       "<matplotlib.image.AxesImage at 0x1d38bbded30>"
      ]
     },
     "execution_count": 33,
     "metadata": {},
     "output_type": "execute_result"
    },
    {
     "data": {
      "image/png": "[encoded data removed]",
      "text/plain": [
       "<Figure size 432x288 with 1 Axes>"
      ]
     },
     "metadata": {
      "needs_background": "light"
     },
     "output_type": "display_data"
    }
   ],
   "source": [
    "n_clusters_=213\n",
    "connectivity = grid_to_graph(n_x=64, n_y=64)\n",
    "\n",
    "ward = cluster.AgglomerativeClustering(n_clusters=n_clusters_, connectivity=connectivity, linkage='ward').fit(pca_features)\n",
    "\n",
    "labels = ward.labels_\n",
    "print(labels.shape)\n",
    "grains=labels.reshape((64,64))\n",
    "colors=np.random.uniform(size=(n_clusters_,3))\n",
    "sample_silhouette_values = metrics.silhouette_samples(pca_features, labels)\n",
    "sample_silhouette_values=sample_silhouette_values.reshape((64,64))\n",
    "\n",
    "im=np.zeros(tuple(list(grains.shape)+[3]))\n",
    "\n",
    "for i in range(64):\n",
    "    for j in range(64):\n",
    "        if sample_silhouette_values[i,j] > 0:\n",
    "            im[i,j]=colors[grains[i,j]]\n",
    "        else:\n",
    "            im[i,j]=colors[grains[i,j]]#np.array([1.,1.,1.])\n",
    "plt.imshow(im)"
   ]
  },
  {
   "cell_type": "code",
   "execution_count": 28,
   "metadata": {},
   "outputs": [
    {
     "name": "stdout",
     "output_type": "stream",
     "text": [
      "3.535584892563892e-09\n"
     ]
    }
   ],
   "source": [
    "print(np.abs(np.load(\"spatial_X.npy\")).min())"
   ]
  },
  {
   "cell_type": "code",
   "execution_count": 29,
   "metadata": {},
   "outputs": [
    {
     "name": "stdout",
     "output_type": "stream",
     "text": [
      "1.7735814400454686e-08\n"
     ]
    }
   ],
   "source": [
    "print(np.abs(np.load(\"0-64-60-124/spatial_X.npy\")).min())"
   ]
  },
  {
   "cell_type": "code",
   "execution_count": 31,
   "metadata": {},
   "outputs": [
    {
     "data": {
      "text/plain": [
       "<matplotlib.image.AxesImage at 0x1d38ba32610>"
      ]
     },
     "execution_count": 31,
     "metadata": {},
     "output_type": "execute_result"
    },
    {
     "data": {
      "image/png": "[encoded data removed]",
      "text/plain": [
       "<Figure size 432x288 with 1 Axes>"
      ]
     },
     "metadata": {
      "needs_background": "light"
     },
     "output_type": "display_data"
    }
   ],
   "source": [
    "from sklearn.cluster import KMeans\n",
    "\n",
    "n_clusters_=213\n",
    "\n",
    "labels = KMeans(n_clusters=n_clusters_, init='k-means++').fit_predict(pca_features)\n",
    "np.save(\"label%i\"%n_clusters_,labels)\n",
    "\n",
    "\n",
    "grains=np.array(labels).reshape((64,64))\n",
    "\n",
    "colors=np.random.uniform(size=(n_clusters_,3))\n",
    "\n",
    "im=np.zeros(tuple(list(grains.shape)+[3]))\n",
    "\n",
    "for i in range(64):\n",
    "    for j in range(64):\n",
    "        im[i,j]=colors[grains[i,j]]\n",
    "plt.imshow(im)"
   ]
  },
  {
   "cell_type": "code",
   "execution_count": null,
   "metadata": {},
   "outputs": [],
   "source": []
  }
 ],
 "metadata": {
  "kernelspec": {
   "display_name": "Python 3",
   "language": "python",
   "name": "python3"
  },
  "language_info": {
   "codemirror_mode": {
    "name": "ipython",
    "version": 3
   },
   "file_extension": ".py",
   "mimetype": "text/x-python",
   "name": "python",
   "nbconvert_exporter": "python",
   "pygments_lexer": "ipython3",
   "version": "3.8.3"
  }
 },
 "nbformat": 4,
 "nbformat_minor": 4
}
