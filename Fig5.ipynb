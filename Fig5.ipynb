{
 "cells": [
  {
   "cell_type": "code",
   "execution_count": 34,
   "metadata": {},
   "outputs": [],
   "source": [
    "import sys\n",
    "sys.path.append(\"..\")\n",
    "import numpy as np\n",
    "import matplotlib.pyplot as plt\n",
    "#import matplotlib.gridspec as gridspec\n",
    "\n",
    "from scipy import fft\n",
    "\n",
    "\n",
    "import lauetools.LaueTools.IOimagefile as IOimage\n",
    "\n",
    "#from libtiff import TIFF\n",
    "\n",
    "from sklearn import cluster\n",
    "from sklearn.feature_extraction.image import grid_to_graph\n",
    "\n",
    "from sklearn import metrics\n",
    "\n",
    "\n",
    "nx,ny=64,64#146\n",
    "\n",
    "#X=np.load('spatial_X.npy')#[:nx,60:60+ny,:]\n",
    "#argmin=X[:,0].argmin()\n",
    "FA_spatial=np.load('spatial_features.npy')\n",
    "#RS_spatial = agglo.inverse_transform(FA_spatial)\n",
    "#RS_spatial=RS_spatial.reshape((nx,ny,128,128))\n",
    "\n",
    "from sklearn.decomposition import PCA\n",
    "\n",
    "n_pca=12\n",
    "\n",
    "\n",
    "pca = PCA(n_components=n_pca, svd_solver='randomized')\n",
    "\n",
    "pca_features=pca.fit_transform(FA_spatial)#components_\n",
    "\n",
    "#pca_features=pca.fit_transform(np.delete(FA_spatial,argmin,0))#components_\n",
    "\n",
    "#pca_features=np.insert(pca_features,argmin,np.zeros(n_pca),0)\n"
   ]
  },
  {
   "cell_type": "code",
   "execution_count": null,
   "metadata": {},
   "outputs": [],
   "source": [
    "af = cluster.AffinityPropagation(max_iter=5000,random_state=None,preference=-50).fit(pca_features)\n",
    "print(af.n_iter_)\n",
    "cluster_centers_indices = af.cluster_centers_indices_\n",
    "labels = af.labels_\n",
    "n_clusters_ = len(cluster_centers_indices)\n",
    "print(n_clusters_)\n",
    "\n",
    "labels=labels.reshape((nx,ny))\n",
    "\n",
    "colors=np.random.uniform(size=(n_clusters_,3))\n",
    "im=np.zeros(tuple(list(labels.shape)+[3]))\n",
    "\n",
    "for i in range(nx):\n",
    "    for j in range(ny):\n",
    "        #if counts[labels[i,j]]<10:\n",
    "        #    im[i,j]=np.array([1.,1.,1.])\n",
    "        #else:\n",
    "        im[i,j]=colors[labels[i,j]]\n",
    "plt.imshow(im)"
   ]
  },
  {
   "cell_type": "code",
   "execution_count": null,
   "metadata": {},
   "outputs": [],
   "source": [
    "n_clusters_=175\n",
    "connectivity = grid_to_graph(n_x=64, n_y=64)\n",
    "\n",
    "ward = cluster.AgglomerativeClustering(n_clusters=n_clusters_, connectivity=connectivity, linkage='ward').fit(pca_features)\n",
    "\n",
    "labels = ward.labels_\n",
    "print(labels.shape)\n",
    "grains=labels.reshape((64,64))\n",
    "colors=np.random.uniform(size=(n_clusters_,3))\n",
    "sample_silhouette_values = metrics.silhouette_samples(pca_features, labels)\n",
    "sample_silhouette_values=sample_silhouette_values.reshape((64,64))\n",
    "\n",
    "im=np.zeros(tuple(list(grains.shape)+[3]))\n",
    "\n",
    "for i in range(64):\n",
    "    for j in range(64):\n",
    "        if sample_silhouette_values[i,j] > 0:\n",
    "            im[i,j]=colors[grains[i,j]]\n",
    "        else:\n",
    "            im[i,j]=colors[grains[i,j]]#np.array([1.,1.,1.])\n",
    "plt.imshow(im)"
   ]
  },
  {
   "cell_type": "code",
   "execution_count": null,
   "metadata": {},
   "outputs": [],
   "source": [
    "from sklearn.cluster import KMeans\n",
    "\n",
    "n_clusters_=175\n",
    "\n",
    "labels = KMeans(n_clusters=n_clusters_, init='k-means++').fit_predict(pca_features)\n",
    "np.save(\"label%i\"%n_clusters_,labels)\n",
    "\n",
    "\n",
    "grains=np.array(labels).reshape((64,64))\n",
    "\n",
    "colors=np.random.uniform(size=(n_clusters_,3))\n",
    "\n",
    "im=np.zeros(tuple(list(grains.shape)+[3]))\n",
    "\n",
    "for i in range(64):\n",
    "    for j in range(64):\n",
    "        im[i,j]=colors[grains[i,j]]\n",
    "plt.imshow(im)"
   ]
  },
  {
   "cell_type": "code",
   "execution_count": 5,
   "metadata": {},
   "outputs": [],
   "source": [
    "import sys\n",
    "sys.path.append(\"..\")\n",
    "import numpy as np\n",
    "import matplotlib.pyplot as plt\n",
    "#import matplotlib.gridspec as gridspec\n",
    "\n",
    "from scipy import fft\n",
    "\n",
    "\n",
    "import lauetools.LaueTools.IOimagefile as IOimage\n",
    "\n",
    "#from libtiff import TIFF\n",
    "\n",
    "from sklearn import cluster\n",
    "from sklearn.feature_extraction.image import grid_to_graph\n",
    "\n",
    "from sklearn import metrics\n",
    "\n",
    "\n",
    "nx,ny=64,64#146\n",
    "\n",
    "#X=np.load('spatial_X.npy')#[:nx,60:60+ny,:]\n",
    "#argmin=X[:,0].argmin()\n",
    "FA_spatial=np.load('0-64-60-124/spatial_features.npy')\n",
    "#RS_spatial = agglo.inverse_transform(FA_spatial)\n",
    "#RS_spatial=RS_spatial.reshape((nx,ny,128,128))\n",
    "\n",
    "\n",
    "\n",
    "from sklearn.decomposition import PCA\n",
    "\n",
    "n_pca=12\n",
    "\n",
    "\n",
    "pca = PCA(n_components=n_pca, svd_solver='randomized')\n",
    "\n",
    "pca_features=pca.fit_transform(FA_spatial)#components_\n",
    "\n",
    "#pca_features=pca.fit_transform(np.delete(FA_spatial,argmin,0))#components_\n",
    "\n",
    "#pca_features=np.insert(pca_features,argmin,np.zeros(n_pca),0)"
   ]
  },
  {
   "cell_type": "code",
   "execution_count": 7,
   "metadata": {},
   "outputs": [
    {
     "name": "stdout",
     "output_type": "stream",
     "text": [
      "(4096, 12)\n"
     ]
    }
   ],
   "source": [
    "print(pca_features.shape)"
   ]
  },
  {
   "cell_type": "code",
   "execution_count": 6,
   "metadata": {},
   "outputs": [
    {
     "name": "stdout",
     "output_type": "stream",
     "text": [
      "5000\n",
      "0\n"
     ]
    },
    {
     "name": "stderr",
     "output_type": "stream",
     "text": [
      "/usr/local/lib/python3.8/dist-packages/scikit_learn-0.24.dev0-py3.8-linux-x86_64.egg/sklearn/cluster/_affinity_propagation.py:243: ConvergenceWarning: Affinity propagation did not converge, this model will not have any cluster centers.\n",
      "  warnings.warn(\"Affinity propagation did not converge, this model \"\n"
     ]
    },
    {
     "ename": "IndexError",
     "evalue": "index -1 is out of bounds for axis 0 with size 0",
     "output_type": "error",
     "traceback": [
      "\u001b[0;31m---------------------------------------------------------------------------\u001b[0m",
      "\u001b[0;31mIndexError\u001b[0m                                Traceback (most recent call last)",
      "\u001b[0;32m<ipython-input-6-40512945354d>\u001b[0m in \u001b[0;36m<module>\u001b[0;34m\u001b[0m\n\u001b[1;32m     19\u001b[0m         \u001b[0;31m#    im[i,j]=np.array([1.,1.,1.])\u001b[0m\u001b[0;34m\u001b[0m\u001b[0;34m\u001b[0m\u001b[0;34m\u001b[0m\u001b[0m\n\u001b[1;32m     20\u001b[0m         \u001b[0;31m#else:\u001b[0m\u001b[0;34m\u001b[0m\u001b[0;34m\u001b[0m\u001b[0;34m\u001b[0m\u001b[0m\n\u001b[0;32m---> 21\u001b[0;31m         \u001b[0mim_ap\u001b[0m\u001b[0;34m[\u001b[0m\u001b[0mi\u001b[0m\u001b[0;34m,\u001b[0m\u001b[0mj\u001b[0m\u001b[0;34m]\u001b[0m\u001b[0;34m=\u001b[0m\u001b[0mcolors\u001b[0m\u001b[0;34m[\u001b[0m\u001b[0mlabels\u001b[0m\u001b[0;34m[\u001b[0m\u001b[0mi\u001b[0m\u001b[0;34m,\u001b[0m\u001b[0mj\u001b[0m\u001b[0;34m]\u001b[0m\u001b[0;34m]\u001b[0m\u001b[0;34m\u001b[0m\u001b[0;34m\u001b[0m\u001b[0m\n\u001b[0m\u001b[1;32m     22\u001b[0m \u001b[0;31m#plt.imshow(im)\u001b[0m\u001b[0;34m\u001b[0m\u001b[0;34m\u001b[0m\u001b[0;34m\u001b[0m\u001b[0m\n",
      "\u001b[0;31mIndexError\u001b[0m: index -1 is out of bounds for axis 0 with size 0"
     ]
    }
   ],
   "source": [
    "af = cluster.AffinityPropagation(max_iter=5000,random_state=None,preference=-50).fit(pca_features)\n",
    "print(af.n_iter_)\n",
    "cluster_centers_indices = af.cluster_centers_indices_\n",
    "labels = af.labels_\n",
    "n_clusters_ = len(cluster_centers_indices)\n",
    "\n",
    "colors=np.random.uniform(size=(n_clusters_,3))\n",
    "\n",
    "\n",
    "print(n_clusters_)\n",
    "\n",
    "labels=labels.reshape((nx,ny))\n",
    "\n",
    "im_ap=np.zeros(tuple(list(labels.shape)+[3]))\n",
    "\n",
    "for i in range(nx):\n",
    "    for j in range(ny):\n",
    "        #if counts[labels[i,j]]<10:\n",
    "        #    im[i,j]=np.array([1.,1.,1.])\n",
    "        #else:\n",
    "        im_ap[i,j]=colors[labels[i,j]]\n",
    "#plt.imshow(im)"
   ]
  },
  {
   "cell_type": "code",
   "execution_count": null,
   "metadata": {},
   "outputs": [],
   "source": [
    "#n_clusters_=213\n",
    "connectivity = grid_to_graph(n_x=64, n_y=64)\n",
    "\n",
    "ward = cluster.AgglomerativeClustering(n_clusters=n_clusters_, connectivity=connectivity, linkage='ward').fit(pca_features)\n",
    "\n",
    "labels = ward.labels_\n",
    "print(labels.shape)\n",
    "grains=labels.reshape((64,64))\n",
    "#colors=np.random.uniform(size=(n_clusters_,3))\n",
    "sample_silhouette_values = metrics.silhouette_samples(pca_features, labels)\n",
    "sample_silhouette_values=sample_silhouette_values.reshape((64,64))\n",
    "\n",
    "im_hac=np.zeros(tuple(list(grains.shape)+[3]))\n",
    "\n",
    "for i in range(64):\n",
    "    for j in range(64):\n",
    "        #if sample_silhouette_values[i,j] > 0:\n",
    "        im_hac[i,j]=colors[grains[i,j]]\n",
    "        #else:\n",
    "        #    im_hac[i,j]=colors[grains[i,j]]#np.array([1.,1.,1.])\n",
    "#plt.imshow(im)"
   ]
  },
  {
   "cell_type": "code",
   "execution_count": null,
   "metadata": {},
   "outputs": [],
   "source": [
    "from sklearn.cluster import KMeans\n",
    "\n",
    "#n_clusters_=213\n",
    "\n",
    "labels = KMeans(n_clusters=n_clusters_, init='k-means++').fit_predict(pca_features)\n",
    "np.save(\"label%i\"%n_clusters_,labels)\n",
    "\n",
    "\n",
    "grains=np.array(labels).reshape((64,64))\n",
    "\n",
    "#colors=np.random.uniform(size=(n_clusters_,3))\n",
    "\n",
    "im_km=np.zeros(tuple(list(grains.shape)+[3]))\n",
    "\n",
    "for i in range(64):\n",
    "    for j in range(64):\n",
    "        im_km[i,j]=colors[grains[i,j]]\n",
    "#plt.imshow(im)"
   ]
  },
  {
   "cell_type": "code",
   "execution_count": null,
   "metadata": {},
   "outputs": [],
   "source": [
    "fig = plt.figure(constrained_layout=False,figsize=(12,12))\n",
    "gs = fig.add_gridspec(nrows=3, ncols=1, left=0, right=1.5,bottom=0,top=0.5, wspace=0.002,hspace=0.02)\n",
    "\n",
    "ax1 = fig.add_subplot(gs[0,0])\n",
    "\n",
    "ax1.axis('off')\n",
    "im=ax1.imshow(im_ap)\n",
    "\n",
    "ax2 = fig.add_subplot(gs[0,1])\n",
    "\n",
    "ax2.axis('off')\n",
    "im=ax2.imshow(im_hac)\n",
    "\n",
    "ax3 = fig.add_subplot(gs[0,3])\n",
    "\n",
    "ax3.axis('off')\n",
    "im=ax3.imshow(im_km)"
   ]
  },
  {
   "cell_type": "code",
   "execution_count": null,
   "metadata": {},
   "outputs": [],
   "source": []
  }
 ],
 "metadata": {
  "kernelspec": {
   "display_name": "Python 3",
   "language": "python",
   "name": "python3"
  },
  "language_info": {
   "codemirror_mode": {
    "name": "ipython",
    "version": 3
   },
   "file_extension": ".py",
   "mimetype": "text/x-python",
   "name": "python",
   "nbconvert_exporter": "python",
   "pygments_lexer": "ipython3",
   "version": "3.8.5"
  }
 },
 "nbformat": 4,
 "nbformat_minor": 4
}
