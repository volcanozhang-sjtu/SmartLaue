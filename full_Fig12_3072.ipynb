{
 "cells": [
  {
   "cell_type": "code",
   "execution_count": null,
   "metadata": {},
   "outputs": [],
   "source": [
    "import sys\n",
    "sys.path.append(\"..\")\n",
    "import numpy as np\n",
    "import matplotlib.pyplot as plt\n",
    "#import matplotlib.gridspec as gridspec\n",
    "\n",
    "from scipy import fft\n",
    "from scipy import stats\n",
    "\n",
    "\n",
    "#import lauetools.LaueTools.IOimagefile as IOimage\n",
    "\n",
    "#from libtiff import TIFF\n",
    "\n",
    "from sklearn.decomposition import PCA\n",
    "\n",
    "\n",
    "from sklearn import cluster\n",
    "from sklearn.feature_extraction.image import grid_to_graph\n",
    "\n",
    "from sklearn import metrics\n",
    "\n",
    "nx,ny=64,146\n",
    "FA_spatial=np.load('full_spatial_features.npy')\n",
    "\n",
    "ratio=ny/nx\n",
    "\n",
    "pca = PCA(n_components=3072, svd_solver='full')\n",
    "pca_features=pca.fit_transform(FA_spatial)#components_\n",
    "#pca_features=FA_spatial\n",
    "connectivity = grid_to_graph(n_x=nx, n_y=ny)\n",
    "ward = cluster.AgglomerativeClustering(n_clusters=300, connectivity=connectivity, linkage='ward', compute_full_tree=True).fit(pca_features)\n",
    "labels = ward.labels_\n",
    "#labels=labels.reshape((nx,ny))\n",
    "\n",
    "sil=metrics.silhouette_samples(pca_features,labels)\n",
    "\n",
    "np.save('sil.npy',sil.reshape((nx,ny)))\n",
    "np.save('label.npy',labels.reshape((nx,ny)))\n",
    "\n",
    "\n",
    "#fig = plt.figure(constrained_layout=False,figsize=(12,12))\n",
    "\n",
    "\n",
    "#plt.imshow(sil.reshape((nx,ny)),cmap='RdBu')\n",
    "#plt.axis('off')"
   ]
  }
 ],
 "metadata": {
  "kernelspec": {
   "display_name": "Python 3",
   "language": "python",
   "name": "python3"
  },
  "language_info": {
   "codemirror_mode": {
    "name": "ipython",
    "version": 3
   },
   "file_extension": ".py",
   "mimetype": "text/x-python",
   "name": "python",
   "nbconvert_exporter": "python",
   "pygments_lexer": "ipython3",
   "version": "3.8.3"
  }
 },
 "nbformat": 4,
 "nbformat_minor": 4
}
