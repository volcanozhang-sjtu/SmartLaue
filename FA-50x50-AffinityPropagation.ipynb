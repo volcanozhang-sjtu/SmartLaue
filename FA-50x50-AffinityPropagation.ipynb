{
 "cells": [
  {
   "cell_type": "code",
   "execution_count": 10,
   "metadata": {},
   "outputs": [
    {
     "name": "stdout",
     "output_type": "stream",
     "text": [
      "(2500, 4096)\n"
     ]
    }
   ],
   "source": [
    "import sys\n",
    "sys.path.append(\"..\")\n",
    "import os\n",
    "\n",
    "import lauetools.LaueTools.IOimagefile as IOimage\n",
    "\n",
    "import matplotlib.pyplot as plt\n",
    "import matplotlib.cm as cm\n",
    "import numpy as np\n",
    "from scipy import fft\n",
    "\n",
    "from sklearn import metrics\n",
    "from sklearn import cluster\n",
    "from sklearn.feature_extraction.image import grid_to_graph\n",
    "\n",
    "sx,sy=50,50\n",
    "\n",
    "def reduce(im, sx, sy, lp, hp):\n",
    "    SX, SY = im.shape\n",
    "    im_ = im.reshape(sx, SX // sx, sy,SY // sy).mean(-1).mean(1)\n",
    "    #ss=cv2.dct(im_)\n",
    "    ss=fft.dctn(im_)\n",
    "    ss[:lp, :] = 0.\n",
    "    ss[:, :lp] = 0.\n",
    "    ss[hp:, :] = 0.\n",
    "    ss[:, hp:] = 0.\n",
    "    #return cv2.idct(ss), ss[lp: hp, lp: hp].ravel()\n",
    "    return fft.idctn(ss), ss[lp: hp, lp: hp].ravel()\n",
    "\n",
    "features=np.load('features4096.npy')[:sx,:sy,:]\n",
    "X = np.reshape(features, (sx*sy,4096))\n",
    "print(X.shape)\n",
    "\n",
    "connectivity = grid_to_graph(n_x=64, n_y=64)\n",
    "\n",
    "agglo = cluster.FeatureAgglomeration(connectivity=connectivity, n_clusters=12)\n",
    "\n",
    "agglo.fit(X)\n",
    "fa_features=agglo.transform(X)"
   ]
  },
  {
   "cell_type": "code",
   "execution_count": 11,
   "metadata": {},
   "outputs": [
    {
     "name": "stderr",
     "output_type": "stream",
     "text": [
      "C:\\Users\\fengg\\anaconda3\\lib\\site-packages\\scikit_learn-0.24.dev0-py3.8-win-amd64.egg\\sklearn\\cluster\\_affinity_propagation.py:146: FutureWarning: 'random_state' has been introduced in 0.23. It will be set to None starting from 0.25 which means that results will differ at every function call. Set 'random_state' to None to silence this warning, or to 0 to keep the behavior of versions <0.23.\n",
      "  warnings.warn((\"'random_state' has been introduced in 0.23. \"\n"
     ]
    },
    {
     "name": "stdout",
     "output_type": "stream",
     "text": [
      "48\n"
     ]
    },
    {
     "data": {
      "text/plain": [
       "<matplotlib.image.AxesImage at 0x1b2715a2850>"
      ]
     },
     "execution_count": 11,
     "metadata": {},
     "output_type": "execute_result"
    },
    {
     "data": {
      "image/png": "[encoded data removed]",
      "text/plain": [
       "<Figure size 432x288 with 1 Axes>"
      ]
     },
     "metadata": {
      "needs_background": "light"
     },
     "output_type": "display_data"
    }
   ],
   "source": [
    "af = cluster.AffinityPropagation(preference=-50).fit(fa_features)\n",
    "cluster_centers_indices = af.cluster_centers_indices_\n",
    "labels = af.labels_\n",
    "n_clusters_ = len(cluster_centers_indices)\n",
    "print(n_clusters_)\n",
    "labels=labels.reshape((sx,sy))\n",
    "\n",
    "colors=np.random.uniform(size=(n_clusters_,3))\n",
    "im=np.zeros(tuple(list(labels.shape)+[3]))\n",
    "\n",
    "for i in range(sx):\n",
    "    for j in range(sy):\n",
    "        #if counts[labels[i,j]]<10:\n",
    "        #    im[i,j]=np.array([1.,1.,1.])\n",
    "        #else:\n",
    "        im[i,j]=colors[labels[i,j]]\n",
    "plt.imshow(im)"
   ]
  },
  {
   "cell_type": "code",
   "execution_count": 12,
   "metadata": {},
   "outputs": [
    {
     "data": {
      "text/plain": [
       "<matplotlib.image.AxesImage at 0x1b21031edc0>"
      ]
     },
     "execution_count": 12,
     "metadata": {},
     "output_type": "execute_result"
    },
    {
     "data": {
      "image/png": "[encoded data removed]",
      "text/plain": [
       "<Figure size 432x288 with 1 Axes>"
      ]
     },
     "metadata": {
      "needs_background": "light"
     },
     "output_type": "display_data"
    }
   ],
   "source": [
    "colors=np.random.uniform(size=(n_clusters_,3))\n",
    "im=np.zeros(tuple(list(labels.shape)+[3]))\n",
    "\n",
    "for i in range(sx):\n",
    "    for j in range(sy):\n",
    "        #if counts[labels[i,j]]<10:\n",
    "        #    im[i,j]=np.array([1.,1.,1.])\n",
    "        #else:\n",
    "        im[i,j]=colors[labels[i,j]]\n",
    "plt.imshow(im)"
   ]
  },
  {
   "cell_type": "code",
   "execution_count": null,
   "metadata": {},
   "outputs": [],
   "source": []
  }
 ],
 "metadata": {
  "kernelspec": {
   "display_name": "Python 3",
   "language": "python",
   "name": "python3"
  },
  "language_info": {
   "codemirror_mode": {
    "name": "ipython",
    "version": 3
   },
   "file_extension": ".py",
   "mimetype": "text/x-python",
   "name": "python",
   "nbconvert_exporter": "python",
   "pygments_lexer": "ipython3",
   "version": "3.8.3"
  }
 },
 "nbformat": 4,
 "nbformat_minor": 4
}
