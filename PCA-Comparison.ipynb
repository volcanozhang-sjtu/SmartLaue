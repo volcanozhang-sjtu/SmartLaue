{
 "cells": [
  {
   "cell_type": "code",
   "execution_count": 59,
   "metadata": {},
   "outputs": [
    {
     "data": {
      "image/png": "[encoded data removed]",
      "text/plain": [
       "<Figure size 432x288 with 1 Axes>"
      ]
     },
     "metadata": {
      "needs_background": "light"
     },
     "output_type": "display_data"
    }
   ],
   "source": [
    "import sys\n",
    "sys.path.append(\"..\")\n",
    "import os\n",
    "\n",
    "import lauetools.LaueTools.IOimagefile as IOimage\n",
    "\n",
    "import matplotlib.pyplot as plt\n",
    "import matplotlib.cm as cm\n",
    "import numpy as np\n",
    "from scipy import fft\n",
    "\n",
    "from sklearn import metrics\n",
    "from sklearn import cluster\n",
    "from sklearn.feature_extraction.image import grid_to_graph\n",
    "\n",
    "sx,sy=25,25\n",
    "\n",
    "def reduce(im, sx, sy, lp, hp):\n",
    "    SX, SY = im.shape\n",
    "    im_ = im.reshape(sx, SX // sx, sy,SY // sy).mean(-1).mean(1)\n",
    "    #ss=cv2.dct(im_)\n",
    "    ss=fft.dctn(im_)\n",
    "    ss[:lp, :] = 0.\n",
    "    ss[:, :lp] = 0.\n",
    "    ss[hp:, :] = 0.\n",
    "    ss[:, hp:] = 0.\n",
    "    #return cv2.idct(ss), ss[lp: hp, lp: hp].ravel()\n",
    "    return fft.idctn(ss), ss[lp: hp, lp: hp].ravel()\n",
    "\n",
    "features=np.load('features4096.npy')#[:sx,:sy,:]\n",
    "features=features.reshape((64*146,4096))\n",
    "\n",
    "from sklearn.decomposition import PCA\n",
    "\n",
    "n_pca=12\n",
    "pca = PCA(n_components=n_pca, svd_solver='randomized')#,whiten=True)\n",
    "\n",
    "pca_features=pca.fit_transform(features)#components_\n",
    "\n",
    "plt.plot(np.arange(n_pca), pca.explained_variance_ratio_,'r.')\n",
    "pca_features=pca_features.reshape((64,146,n_pca))[:sx,:sy,:].reshape((sx*sy,n_pca))"
   ]
  },
  {
   "cell_type": "code",
   "execution_count": 60,
   "metadata": {},
   "outputs": [
    {
     "name": "stderr",
     "output_type": "stream",
     "text": [
      "C:\\Users\\fengg\\anaconda3\\lib\\site-packages\\scikit_learn-0.24.dev0-py3.8-win-amd64.egg\\sklearn\\cluster\\_affinity_propagation.py:146: FutureWarning: 'random_state' has been introduced in 0.23. It will be set to None starting from 0.25 which means that results will differ at every function call. Set 'random_state' to None to silence this warning, or to 0 to keep the behavior of versions <0.23.\n",
      "  warnings.warn((\"'random_state' has been introduced in 0.23. \"\n"
     ]
    },
    {
     "name": "stdout",
     "output_type": "stream",
     "text": [
      "42\n"
     ]
    },
    {
     "data": {
      "image/png": "[encoded data removed]",
      "text/plain": [
       "<Figure size 432x288 with 1 Axes>"
      ]
     },
     "metadata": {
      "needs_background": "light"
     },
     "output_type": "display_data"
    }
   ],
   "source": [
    "from sklearn.cluster import AffinityPropagation\n",
    "\n",
    "af = AffinityPropagation(preference=-50).fit(pca_features)\n",
    "cluster_centers_indices = af.cluster_centers_indices_\n",
    "labels = af.labels_\n",
    "n_clusters_ = len(cluster_centers_indices)\n",
    "colors=np.random.uniform(size=(n_clusters_,3))\n",
    "print(n_clusters_)\n",
    "labels=labels.reshape((sx,sy))\n",
    "im=np.zeros(tuple(list(labels.shape)+[3]))\n",
    "for i in range(sx):\n",
    "    for j in range(sy):\n",
    "        im[i,j]=colors[labels[i,j]]\n",
    "plt.imshow(im)\n",
    "plt.savefig('comparison_ap%i.png'%n_clusters_,format='png',bbox_inches ='tight')"
   ]
  },
  {
   "cell_type": "code",
   "execution_count": 61,
   "metadata": {},
   "outputs": [
    {
     "data": {
      "image/png": "[encoded data removed]",
      "text/plain": [
       "<Figure size 432x288 with 1 Axes>"
      ]
     },
     "metadata": {
      "needs_background": "light"
     },
     "output_type": "display_data"
    }
   ],
   "source": [
    "from sklearn.cluster import KMeans\n",
    "\n",
    "colors=np.random.uniform(size=(n_clusters_,3))\n",
    "\n",
    "labels = KMeans(n_clusters=n_clusters_, init='k-means++').fit_predict(pca_features)\n",
    "\n",
    "\n",
    "labels=labels.reshape((sx,sy))\n",
    "im=np.zeros(tuple(list(labels.shape)+[3]))\n",
    "for i in range(sx):\n",
    "    for j in range(sy):\n",
    "        im[i,j]=colors[labels[i,j]]\n",
    "plt.imshow(im)\n",
    "plt.savefig('comparison_kmean%i.png'%n_clusters_,format='png',bbox_inches ='tight')"
   ]
  },
  {
   "cell_type": "code",
   "execution_count": 62,
   "metadata": {},
   "outputs": [
    {
     "data": {
      "image/png": "[encoded data removed]",
      "text/plain": [
       "<Figure size 432x288 with 1 Axes>"
      ]
     },
     "metadata": {
      "needs_background": "light"
     },
     "output_type": "display_data"
    }
   ],
   "source": [
    "from sklearn.feature_extraction.image import grid_to_graph\n",
    "\n",
    "connectivity = grid_to_graph(n_x=sx, n_y=sy)\n",
    "\n",
    "from sklearn.cluster import AgglomerativeClustering\n",
    "colors=np.random.uniform(size=(n_clusters_,3))\n",
    "\n",
    "\n",
    "ward = cluster.AgglomerativeClustering(n_clusters=n_clusters_, connectivity=connectivity, linkage='ward').fit(pca_features)\n",
    "labels = ward.labels_\n",
    "\n",
    "labels=labels.reshape((sx,sy))\n",
    "im=np.zeros(tuple(list(labels.shape)+[3]))\n",
    "for i in range(sx):\n",
    "    for j in range(sy):\n",
    "        im[i,j]=colors[labels[i,j]]\n",
    "plt.imshow(im)\n",
    "plt.savefig('comparison_ac%i.png'%n_clusters_,format='png',bbox_inches ='tight')"
   ]
  },
  {
   "cell_type": "code",
   "execution_count": null,
   "metadata": {},
   "outputs": [],
   "source": []
  }
 ],
 "metadata": {
  "kernelspec": {
   "display_name": "Python 3",
   "language": "python",
   "name": "python3"
  },
  "language_info": {
   "codemirror_mode": {
    "name": "ipython",
    "version": 3
   },
   "file_extension": ".py",
   "mimetype": "text/x-python",
   "name": "python",
   "nbconvert_exporter": "python",
   "pygments_lexer": "ipython3",
   "version": "3.8.3"
  }
 },
 "nbformat": 4,
 "nbformat_minor": 4
}
