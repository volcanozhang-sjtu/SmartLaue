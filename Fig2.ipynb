{
 "cells": [
  {
   "cell_type": "code",
   "execution_count": 32,
   "metadata": {},
   "outputs": [
    {
     "name": "stdout",
     "output_type": "stream",
     "text": [
      "CCDLabel in readCCDimage TIFF Format\n",
      "----> Using libtiff...\n",
      "0.0 0.9947948416756596\n"
     ]
    }
   ],
   "source": [
    "import sys\n",
    "sys.path.append(\"..\")\n",
    "import numpy as np\n",
    "import matplotlib.pyplot as plt\n",
    "from scipy import fft\n",
    "\n",
    "\n",
    "import lauetools.LaueTools.IOimagefile as IOimage\n",
    "\n",
    "from libtiff import TIFF\n",
    "\n",
    "filename=\"140_S027_C090.TIFF\"\n",
    "dirname=\"../XRD_images/2nd_saving/\"\n",
    "im=IOimage.readCCDimage(filename=filename,CCDLabel='TIFF Format',dirname=dirname)[0]\n",
    "\n",
    "im=(im-im.mean())/im.std()\n",
    "\n",
    "def scale(x0):\n",
    "    min_,max_=x0.min(),x0.max()\n",
    "    nx,ny=x0.shape\n",
    "    x=np.zeros((nx,ny))\n",
    "    for i in range(nx):\n",
    "        for j in range(ny):\n",
    "            x[i,j]=(x0[i,j]-min_)/(max_-min_)\n",
    "    return x\n",
    "\n",
    "#plt.imshow(scale(im))\n",
    "im_a=(scale(im)*255).astype(np.uint8)\n",
    "\n",
    "\n",
    "tif = TIFF.open('fig2a.tif', mode='w')\n",
    " \n",
    "# to write a image to tiff file\n",
    " \n",
    "tif.write_image(im_a)\n",
    "\n",
    "del tif\n",
    "\n",
    "im_ = im.reshape(128, 8, 128,8).mean(-1).mean(1)\n",
    "print(im_.mean(),im_.std())\n",
    "\n",
    "im_b=(scale(im_)*255).astype(np.uint8)\n",
    "\n",
    "tif = TIFF.open('fig2b.tif', mode='w')\n",
    " \n",
    "# to write a image to tiff file\n",
    " \n",
    "tif.write_image(im_b)\n",
    "\n",
    "del tif\n",
    "\n",
    "fft_im_=fft.dctn(im_)\n",
    "im_c=(scale(fft_im_)*255).astype(np.uint8)\n",
    "\n",
    "tif = TIFF.open('fig2c.tif', mode='w')\n",
    "\n",
    "tif.write_image(im_c)\n",
    "\n",
    "del tif"
   ]
  },
  {
   "cell_type": "code",
   "execution_count": 72,
   "metadata": {},
   "outputs": [
    {
     "name": "stdout",
     "output_type": "stream",
     "text": [
      "CCDLabel in readCCDimage TIFF Format\n",
      "----> Using libtiff...\n"
     ]
    },
    {
     "data": {
      "text/plain": [
       "(-0.5, 127.5, -0.5, 127.5)"
      ]
     },
     "execution_count": 72,
     "metadata": {},
     "output_type": "execute_result"
    },
    {
     "data": {
      "text/plain": [
       "<Figure size 432x288 with 0 Axes>"
      ]
     },
     "metadata": {},
     "output_type": "display_data"
    },
    {
     "data": {
      "image/png": "[encoded data removed]",
      "text/plain": [
       "<Figure size 360x288 with 1 Axes>"
      ]
     },
     "metadata": {
      "needs_background": "light"
     },
     "output_type": "display_data"
    }
   ],
   "source": [
    "import sys\n",
    "sys.path.append(\"..\")\n",
    "import numpy as np\n",
    "import matplotlib.pyplot as plt\n",
    "from scipy import fft\n",
    "\n",
    "\n",
    "import lauetools.LaueTools.IOimagefile as IOimage\n",
    "\n",
    "from libtiff import TIFF\n",
    "\n",
    "filename=\"140_S027_C090.TIFF\"\n",
    "dirname=\"../XRD_images/2nd_saving/\"\n",
    "im=IOimage.readCCDimage(filename=filename,CCDLabel='TIFF Format',dirname=dirname)[0]\n",
    "\n",
    "im_a=(im-im.mean())/im.std()\n",
    "\n",
    "plt.axis('off')\n",
    "plt.imshow(im_a,cmap='gray')\n",
    "plt.savefig('fig2a.tif',format='tif',bbox_inches ='tight')\n",
    "plt.clf()\n",
    "\n",
    "im_b = im_a.reshape(128, 8, 128,8).mean(-1).mean(1)\n",
    "\n",
    "plt.axis('off')\n",
    "plt.imshow(im_b,cmap='gray')\n",
    "plt.savefig('fig2b.tif',format='tif',bbox_inches ='tight')\n",
    "plt.clf()\n",
    "\n",
    "im_c=fft.dctn(im_b)\n",
    "\n",
    "fig, ax = plt.subplots(figsize=[5, 4])\n",
    "\n",
    "ax.imshow(im_c,cmap='gray',origin='lower')\n",
    "# inset axes....\n",
    "axins = ax.inset_axes([0.5, 0.5, 0.47, 0.47])\n",
    "axins.imshow(im_c,origin='upper',cmap='gray')\n",
    "# sub region of the original image\n",
    "x1, x2, y1, y2 = 0,14,0,14\n",
    "axins.set_xlim(x1, x2)\n",
    "axins.set_ylim(y1, y2)\n",
    "axins.tick_params(left=False,right=False,top=False,bottom=False)\n",
    "\n",
    "axins.set_xticklabels('')\n",
    "axins.set_yticklabels('')\n",
    "\n",
    "ax.indicate_inset_zoom(axins)\n",
    "\n",
    "ax.axis('off')\n"
   ]
  },
  {
   "cell_type": "code",
   "execution_count": 48,
   "metadata": {},
   "outputs": [
    {
     "data": {
      "text/plain": [
       "[<matplotlib.lines.Line2D at 0x1fe6a96e8b0>]"
      ]
     },
     "execution_count": 48,
     "metadata": {},
     "output_type": "execute_result"
    },
    {
     "data": {
      "image/png": "[encoded data removed]",
      "text/plain": [
       "<Figure size 432x288 with 1 Axes>"
      ]
     },
     "metadata": {
      "needs_background": "light"
     },
     "output_type": "display_data"
    }
   ],
   "source": [
    "#plt.yscale('log')\n",
    "plt.plot(np.arange(128),im_c[0,:],'r')\n",
    "plt.plot(np.arange(128),im_c[:,0],'b')"
   ]
  },
  {
   "cell_type": "code",
   "execution_count": null,
   "metadata": {},
   "outputs": [],
   "source": []
  }
 ],
 "metadata": {
  "kernelspec": {
   "display_name": "Python 3",
   "language": "python",
   "name": "python3"
  },
  "language_info": {
   "codemirror_mode": {
    "name": "ipython",
    "version": 3
   },
   "file_extension": ".py",
   "mimetype": "text/x-python",
   "name": "python",
   "nbconvert_exporter": "python",
   "pygments_lexer": "ipython3",
   "version": "3.8.3"
  }
 },
 "nbformat": 4,
 "nbformat_minor": 4
}
