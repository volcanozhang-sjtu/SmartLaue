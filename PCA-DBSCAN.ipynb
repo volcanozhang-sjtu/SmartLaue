{
 "cells": [
  {
   "cell_type": "code",
   "execution_count": 14,
   "metadata": {},
   "outputs": [
    {
     "data": {
      "text/plain": [
       "[<matplotlib.lines.Line2D at 0x7f3391745430>]"
      ]
     },
     "execution_count": 14,
     "metadata": {},
     "output_type": "execute_result"
    },
    {
     "data": {
      "image/png": "[encoded data removed]",
      "text/plain": [
       "<Figure size 432x288 with 1 Axes>"
      ]
     },
     "metadata": {
      "needs_background": "light"
     },
     "output_type": "display_data"
    }
   ],
   "source": [
    "import sys\n",
    "sys.path.append(\"..\")\n",
    "import os\n",
    "\n",
    "import lauetools.LaueTools.IOimagefile as IOimage\n",
    "\n",
    "import matplotlib.pyplot as plt\n",
    "import numpy as np\n",
    "from scipy import fft\n",
    "\n",
    "def reduce(im, sx, sy, lp, hp):\n",
    "    SX, SY = im.shape\n",
    "    im_ = im.reshape(sx, SX // sx, sy,SY // sy).mean(-1).mean(1)\n",
    "    #ss=cv2.dct(im_)\n",
    "    ss=fft.dctn(im_)\n",
    "    ss[:lp, :] = 0.\n",
    "    ss[:, :lp] = 0.\n",
    "    ss[hp:, :] = 0.\n",
    "    ss[:, hp:] = 0.\n",
    "    #return cv2.idct(ss), ss[lp: hp, lp: hp].ravel()\n",
    "    return fft.idctn(ss), ss[lp: hp, lp: hp].ravel()\n",
    "\n",
    "features=np.load('features4096.npy')\n",
    "\n",
    "features=features.reshape((64*146,4096))\n",
    "\n",
    "from sklearn.decomposition import PCA\n",
    "\n",
    "n_pca=4\n",
    "pca = PCA(n_components=n_pca, svd_solver='randomized')\n",
    "\n",
    "pca_features=pca.fit_transform(features)#components_\n",
    "\n",
    "plt.plot(np.arange(n_pca), pca.explained_variance_ratio_,'r.')"
   ]
  },
  {
   "cell_type": "code",
   "execution_count": 17,
   "metadata": {},
   "outputs": [],
   "source": [
    "from sklearn.cluster import DBSCAN\n",
    "db = DBSCAN(eps=0.9, min_samples=64*146).fit(pca_features)\n",
    "core_samples_mask = np.zeros_like(db.labels_, dtype=bool)\n",
    "core_samples_mask[db.core_sample_indices_] = True\n",
    "labels = db.labels_\n",
    "\n",
    "# Number of clusters in labels, ignoring noise if present.\n",
    "n_clusters_ = len(set(labels)) - (1 if -1 in labels else 0)"
   ]
  },
  {
   "cell_type": "code",
   "execution_count": 18,
   "metadata": {},
   "outputs": [
    {
     "name": "stdout",
     "output_type": "stream",
     "text": [
      "0\n"
     ]
    }
   ],
   "source": [
    "print(n_clusters_)"
   ]
  },
  {
   "cell_type": "code",
   "execution_count": null,
   "metadata": {},
   "outputs": [],
   "source": []
  }
 ],
 "metadata": {
  "kernelspec": {
   "display_name": "Python 3",
   "language": "python",
   "name": "python3"
  },
  "language_info": {
   "codemirror_mode": {
    "name": "ipython",
    "version": 3
   },
   "file_extension": ".py",
   "mimetype": "text/x-python",
   "name": "python",
   "nbconvert_exporter": "python",
   "pygments_lexer": "ipython3",
   "version": "3.8.5"
  }
 },
 "nbformat": 4,
 "nbformat_minor": 4
}
