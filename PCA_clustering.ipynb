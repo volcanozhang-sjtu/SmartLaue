{
 "cells": [
  {
   "cell_type": "code",
   "execution_count": 1,
   "metadata": {},
   "outputs": [
    {
     "name": "stdout",
     "output_type": "stream",
     "text": [
      "Missing fabio module. Please install it if you need open some tiff images from the sCMOS camera\n",
      "LaueToolsProjectFolder ..\\lauetools\\LaueTools\n",
      "you are using python 3\n"
     ]
    }
   ],
   "source": [
    "import sys\n",
    "sys.path.append(\"..\")\n",
    "import numpy as np\n",
    "import matplotlib.pyplot as plt\n",
    "#import matplotlib.gridspec as gridspec\n",
    "\n",
    "from scipy import fft\n",
    "\n",
    "\n",
    "import lauetools.LaueTools.IOimagefile as IOimage\n",
    "\n",
    "from libtiff import TIFF\n",
    "\n",
    "from sklearn import cluster\n",
    "from sklearn.feature_extraction.image import grid_to_graph\n",
    "\n",
    "nx,ny=64,64#146\n",
    "\n",
    "features=np.load('features16384.npy')[:nx,60:60+ny,:]\n",
    "\n",
    "X = np.reshape(features, (nx*ny,16384))\n",
    "\n",
    "connectivity = grid_to_graph(n_x=128, n_y=128)\n",
    "\n",
    "agglo = cluster.FeatureAgglomeration(connectivity=connectivity, n_clusters=2048)#,linkage='complete')\n",
    "\n",
    "agglo.fit(X)\n",
    "FA_spatial=agglo.transform(X)\n",
    "#RS_spatial = agglo.inverse_transform(FA_spatial)\n",
    "#RS_spatial=RS_spatial.reshape((nx,ny,128,128))"
   ]
  },
  {
   "cell_type": "code",
   "execution_count": 12,
   "metadata": {},
   "outputs": [],
   "source": [
    "from sklearn.decomposition import PCA\n",
    "\n",
    "n_pca=256\n",
    "pca = PCA(n_components=n_pca, svd_solver='randomized')\n",
    "\n",
    "pca_features=pca.fit_transform(FA_spatial)#components_\n",
    "\n"
   ]
  },
  {
   "cell_type": "code",
   "execution_count": 21,
   "metadata": {},
   "outputs": [
    {
     "name": "stdout",
     "output_type": "stream",
     "text": [
      "(4096,)\n"
     ]
    },
    {
     "data": {
      "text/plain": [
       "<matplotlib.image.AxesImage at 0x20149bb1b20>"
      ]
     },
     "execution_count": 21,
     "metadata": {},
     "output_type": "execute_result"
    },
    {
     "data": {
      "image/png": "[encoded data removed]",
      "text/plain": [
       "<Figure size 432x288 with 1 Axes>"
      ]
     },
     "metadata": {
      "needs_background": "light"
     },
     "output_type": "display_data"
    }
   ],
   "source": [
    "from sklearn import metrics\n",
    "\n",
    "\n",
    "n_clusters_=10\n",
    "sx,sy=64,64\n",
    "connectivity = grid_to_graph(n_x=sx, n_y=sy)\n",
    "\n",
    "\n",
    "ward = cluster.AgglomerativeClustering(n_clusters=n_clusters_, connectivity=connectivity, linkage='ward').fit(pca_features)\n",
    "\n",
    "labels = ward.labels_\n",
    "print(labels.shape)\n",
    "grains=labels.reshape((sx,sy))\n",
    "colors=np.random.uniform(size=(n_clusters_,3))\n",
    "sample_silhouette_values = metrics.silhouette_samples(pca_features, labels)\n",
    "sample_silhouette_values=sample_silhouette_values.reshape((sx,sy))\n",
    "\n",
    "im=np.zeros(tuple(list(grains.shape)+[3]))\n",
    "\n",
    "for i in range(sx):\n",
    "    for j in range(sy):\n",
    "        if sample_silhouette_values[i,j] > 0:\n",
    "            im[i,j]=colors[grains[i,j]]\n",
    "        else:\n",
    "            im[i,j]=colors[grains[i,j]]#np.array([1.,1.,1.])\n",
    "plt.imshow(im)"
   ]
  },
  {
   "cell_type": "code",
   "execution_count": null,
   "metadata": {},
   "outputs": [],
   "source": []
  }
 ],
 "metadata": {
  "kernelspec": {
   "display_name": "Python 3",
   "language": "python",
   "name": "python3"
  },
  "language_info": {
   "codemirror_mode": {
    "name": "ipython",
    "version": 3
   },
   "file_extension": ".py",
   "mimetype": "text/x-python",
   "name": "python",
   "nbconvert_exporter": "python",
   "pygments_lexer": "ipython3",
   "version": "3.8.3"
  }
 },
 "nbformat": 4,
 "nbformat_minor": 4
}
